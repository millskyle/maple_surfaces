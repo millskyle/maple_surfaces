{
 "cells": [
  {
   "cell_type": "code",
   "execution_count": 77,
   "metadata": {},
   "outputs": [],
   "source": [
    "import pymatgen as mg\n",
    "from pymatgen.vis import structure_chemview as view\n",
    "from pymatgen.ext.matproj import MPRester as MP\n",
    "\n",
    "#api_key is just a string.  Here I read it from disk for security purposes\n",
    "api_key = open(\"/home/kmills/.ssh/matproj_api\",\"r\").readlines()[0].strip()"
   ]
  },
  {
   "cell_type": "markdown",
   "metadata": {},
   "source": [
    "## Materials Project API\n",
    "\n",
    "Here we will query the Materials Project API for a list of Gold Oxide structures.  Let's first make an arbitrary query to investigate what we can access from Materials Project:\n",
    "\n"
   ]
  },
  {
   "cell_type": "code",
   "execution_count": 86,
   "metadata": {},
   "outputs": [
    {
     "name": "stdout",
     "output_type": "stream",
     "text": [
      "band_gap\n",
      "cif\n",
      "density\n",
      "diel\n",
      "e_above_hull\n",
      "elasticity\n",
      "elements\n",
      "energy\n",
      "energy_per_atom\n",
      "formation_energy_per_atom\n",
      "full_formula\n",
      "hubbards\n",
      "icsd_id\n",
      "icsd_ids\n",
      "is_compatible\n",
      "is_hubbard\n",
      "material_id\n",
      "nelements\n",
      "nsites\n",
      "oxide_type\n",
      "piezo\n",
      "pretty_formula\n",
      "spacegroup\n",
      "tags\n",
      "task_ids\n",
      "total_magnetization\n",
      "unit_cell_formula\n",
      "volume\n"
     ]
    }
   ],
   "source": [
    "with MP(api_key) as m:\n",
    "    data = m.get_data(\"Au-O\")\n",
    "    for key in sorted(data[0].keys()):\n",
    "        print(key)"
   ]
  },
  {
   "cell_type": "markdown",
   "metadata": {},
   "source": [
    "Okay, so now let us query the database and print the `full_formula`, `pretty_formula`, and `material_id` for all Au+O compounds in the database, as well as the `energy_per_atom` so we can see which is the most stable."
   ]
  },
  {
   "cell_type": "code",
   "execution_count": 92,
   "metadata": {},
   "outputs": [
    {
     "name": "stdout",
     "output_type": "stream",
     "text": [
      "0) mp-27253    Au4O6     Au2O3      -4.323935\n",
      "1) mp-984358   Au6O2     Au3O       -3.324116\n"
     ]
    }
   ],
   "source": [
    "with MPRester(api_key) as m:\n",
    "    data = m.get_data(\"Au-O\")\n",
    "    \n",
    "    for i,d in enumerate(data):\n",
    "        print(f\"{i}) {d['material_id']:12s}{d['full_formula']:10s}{d['pretty_formula']:10s}{d['energy_per_atom']:10.6f}\")"
   ]
  },
  {
   "cell_type": "markdown",
   "metadata": {},
   "source": [
    "So $Au_2O_3$ is the most stable.  We will grab its data and reference it as `chosen_one` from now on.  Let's also download its structure.  We do this by using the `material_id`:"
   ]
  },
  {
   "cell_type": "code",
   "execution_count": 94,
   "metadata": {},
   "outputs": [],
   "source": [
    "chosen_one = data[0]"
   ]
  },
  {
   "cell_type": "code",
   "execution_count": 95,
   "metadata": {},
   "outputs": [],
   "source": [
    "with MPRester(api_key) as m:\n",
    "    structure = m.get_structure_by_material_id(chosen_one[\"material_id\"])"
   ]
  },
  {
   "cell_type": "markdown",
   "metadata": {},
   "source": [
    "And let's visualize it:"
   ]
  },
  {
   "cell_type": "code",
   "execution_count": 91,
   "metadata": {},
   "outputs": [
    {
     "data": {
      "application/vnd.jupyter.widget-view+json": {
       "model_id": "0d386ee107874708b0dfee4961a20ad5",
       "version_major": 2,
       "version_minor": 0
      },
      "text/plain": [
       "MolecularViewer(height=500, width=500)"
      ]
     },
     "metadata": {},
     "output_type": "display_data"
    }
   ],
   "source": [
    "view.quick_view(structure)"
   ]
  },
  {
   "cell_type": "markdown",
   "metadata": {},
   "source": [
    "We will make a supercell out of it to turn it into a surface, and visualize it again:"
   ]
  },
  {
   "cell_type": "code",
   "execution_count": 97,
   "metadata": {},
   "outputs": [],
   "source": [
    "structure.make_supercell([4,4,1])\n"
   ]
  },
  {
   "cell_type": "code",
   "execution_count": 65,
   "metadata": {},
   "outputs": [],
   "source": [
    "import pickle\n",
    "serial_data = pickle.dumps(structure)"
   ]
  },
  {
   "cell_type": "code",
   "execution_count": 67,
   "metadata": {},
   "outputs": [
    {
     "data": {
      "application/vnd.jupyter.widget-view+json": {
       "model_id": "043691b28ef14d15890700eda4ca9654",
       "version_major": 2,
       "version_minor": 0
      },
      "text/plain": [
       "MolecularViewer(height=500, width=500)"
      ]
     },
     "metadata": {},
     "output_type": "display_data"
    }
   ],
   "source": [
    "new_structure = pickle.loads(serial_data)\n",
    "view.quick_view(new_structure)"
   ]
  }
 ],
 "metadata": {
  "kernelspec": {
   "display_name": "Python 3",
   "language": "python",
   "name": "python3"
  },
  "language_info": {
   "codemirror_mode": {
    "name": "ipython",
    "version": 3
   },
   "file_extension": ".py",
   "mimetype": "text/x-python",
   "name": "python",
   "nbconvert_exporter": "python",
   "pygments_lexer": "ipython3",
   "version": "3.7.6"
  }
 },
 "nbformat": 4,
 "nbformat_minor": 4
}
